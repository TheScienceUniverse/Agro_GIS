{
  "nbformat": 4,
  "nbformat_minor": 0,
  "metadata": {
    "colab": {
      "name": "Agro_GIS.ipynb",
      "version": "0.3.2",
      "provenance": [],
      "collapsed_sections": [],
      "include_colab_link": true
    },
    "kernelspec": {
      "name": "python3",
      "display_name": "Python 3"
    },
    "accelerator": "GPU"
  },
  "cells": [
    {
      "cell_type": "markdown",
      "metadata": {
        "id": "view-in-github",
        "colab_type": "text"
      },
      "source": [
        "<a href=\"https://colab.research.google.com/github/TheScienceUniverse/Agro_GIS/blob/master/Agro_GIS.ipynb\" target=\"_parent\"><img src=\"https://colab.research.google.com/assets/colab-badge.svg\" alt=\"Open In Colab\"/></a>"
      ]
    },
    {
      "metadata": {
        "id": "2oEVWibeS4uw",
        "colab_type": "code",
        "colab": {}
      },
      "cell_type": "code",
      "source": [
        "!pwd\n",
        "!ls\n",
        "!rm -rf Agro_GIS\n",
        "!git clone https://github.com/TheScienceUniverse/Agro_GIS.git"
      ],
      "execution_count": 0,
      "outputs": []
    },
    {
      "metadata": {
        "id": "31faVyUYIg-I",
        "colab_type": "code",
        "colab": {}
      },
      "cell_type": "code",
      "source": [
        "# importing csv module\n",
        "import csv\n",
        "\n",
        "# csv File NAME\n",
        "f_name = \"Agro_GIS/data/agro.csv\"\n",
        "\n",
        "# initializing the titles and rows list\n",
        "fields = []\n",
        "rows = []\n",
        "\n",
        "# reading CSV File\n",
        "with open(f_name, 'r') as f_csv:\n",
        "\t# creating a CSV Reader object\n",
        "\tr_csv = csv.reader(f_csv)\n",
        "\t# Line COUNT\n",
        "\tl_count = 0\n",
        "\t# read row-by-row\n",
        "\tfor row in r_csv:\n",
        "\t\t# print(row)\n",
        "\t\tl_count += 1\n",
        "\tprint(\"Total Number of Rows: \", l_count)\n",
        "f_csv.close()"
      ],
      "execution_count": 0,
      "outputs": []
    },
    {
      "metadata": {
        "id": "yoPuItVE2Y4F",
        "colab_type": "code",
        "colab": {}
      },
      "cell_type": "code",
      "source": [
        "!sh Agro_GIS/setup.sh"
      ],
      "execution_count": 0,
      "outputs": []
    },
    {
      "metadata": {
        "id": "HLkQFrFWr1JH",
        "colab_type": "code",
        "colab": {
          "base_uri": "https://localhost:8080/",
          "height": 34
        },
        "outputId": "223d5d54-c051-40e0-e456-7aa65b8b5788"
      },
      "cell_type": "code",
      "source": [
        "import numpy as p_nm\n",
        "import scipy as p_sc\n",
        "import matplotlib as p_mp\n",
        "\n",
        "import cv2 as p_cv\n",
        "\n",
        "print(\"Done\")"
      ],
      "execution_count": 15,
      "outputs": [
        {
          "output_type": "stream",
          "text": [
            "Done\n"
          ],
          "name": "stdout"
        }
      ]
    },
    {
      "metadata": {
        "id": "ewv71_t6_l_8",
        "colab_type": "code",
        "colab": {}
      },
      "cell_type": "code",
      "source": [
        "from mpl_toolkits.basemap import Basemap\n",
        "import matplotlib.pyplot as plt\n",
        "\n",
        "\"\"\"\n",
        "m = Basemap(projection=\"mill\", \\\n",
        "           llcrnrlat=-90, urcrnrlat=90, \\\n",
        "           llcrnrlon=-180, urcrnrlon=180,\\\n",
        "           resolution='c')\n",
        "\n",
        "m.drawcoastlines()\n",
        "m.fillcontinents()\n",
        "\n",
        "m.drawmapboundary()\n",
        "plt.title('Quick basemap example!')\n",
        "plt.show()\n",
        "\"\"\""
      ],
      "execution_count": 0,
      "outputs": []
    }
  ]
}
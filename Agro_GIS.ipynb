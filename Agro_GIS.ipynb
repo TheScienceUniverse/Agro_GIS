{
  "nbformat": 4,
  "nbformat_minor": 0,
  "metadata": {
    "colab": {
      "name": "Agro_GIS.ipynb",
      "version": "0.3.2",
      "provenance": [],
      "collapsed_sections": [],
      "include_colab_link": true
    },
    "kernelspec": {
      "name": "python3",
      "display_name": "Python 3"
    },
    "accelerator": "GPU"
  },
  "cells": [
    {
      "cell_type": "markdown",
      "metadata": {
        "id": "view-in-github",
        "colab_type": "text"
      },
      "source": [
        "<a href=\"https://colab.research.google.com/github/TheScienceUniverse/Agro_GIS/blob/master/Agro_GIS.ipynb\" target=\"_parent\"><img src=\"https://colab.research.google.com/assets/colab-badge.svg\" alt=\"Open In Colab\"/></a>"
      ]
    },
    {
      "metadata": {
        "id": "2oEVWibeS4uw",
        "colab_type": "code",
        "outputId": "031f8055-e17b-4cd9-913f-8fd439d2f74a",
        "colab": {
          "base_uri": "https://localhost:8080/",
          "height": 151
        }
      },
      "cell_type": "code",
      "source": [
        "!pwd\n",
        "!ls\n",
        "!rm -rf Agro_GIS\n",
        "!git clone https://github.com/TheScienceUniverse/Agro_GIS.git"
      ],
      "execution_count": 0,
      "outputs": [
        {
          "output_type": "stream",
          "text": [
            "/content\n",
            "sample_data\n",
            "Cloning into 'Agro_GIS'...\n",
            "remote: Enumerating objects: 29, done.\u001b[K\n",
            "remote: Counting objects: 100% (29/29), done.\u001b[K\n",
            "remote: Compressing objects: 100% (28/28), done.\u001b[K\n",
            "remote: Total 29 (delta 12), reused 0 (delta 0), pack-reused 0\u001b[K\n",
            "Unpacking objects: 100% (29/29), done.\n"
          ],
          "name": "stdout"
        }
      ]
    },
    {
      "metadata": {
        "id": "31faVyUYIg-I",
        "colab_type": "code",
        "outputId": "5f710207-0aac-4e85-c77c-ae2512208a9c",
        "colab": {
          "base_uri": "https://localhost:8080/",
          "height": 34
        }
      },
      "cell_type": "code",
      "source": [
        "# importing csv module\n",
        "import csv\n",
        "\n",
        "# csv File NAME\n",
        "f_name = \"Agro_GIS/data/agro.csv\"\n",
        "\n",
        "# initializing the titles and rows list\n",
        "fields = []\n",
        "rows = []\n",
        "\n",
        "# reading CSV File\n",
        "with open(f_name, 'r') as f_csv:\n",
        "\t# creating a CSV Reader object\n",
        "\tr_csv = csv.reader(f_csv)\n",
        "\t# Line COUNT\n",
        "\tl_count = 0\n",
        "\t# read row-by-row\n",
        "\tfor row in r_csv:\n",
        "\t\t# print(row)\n",
        "\t\tl_count += 1\n",
        "\tprint(\"Total Number of Rows: \", l_count)\n",
        "f_csv.close()"
      ],
      "execution_count": 0,
      "outputs": [
        {
          "output_type": "stream",
          "text": [
            "Total Number of Rows:  430\n"
          ],
          "name": "stdout"
        }
      ]
    },
    {
      "metadata": {
        "id": "IxCe3S5yb4BE",
        "colab_type": "code",
        "colab": {
          "base_uri": "https://localhost:8080/",
          "height": 118
        },
        "outputId": "326ef018-9275-406f-b298-8871f0cbe577"
      },
      "cell_type": "code",
      "source": [
        "!apt-get install g++\n",
        "!gcc hello.c\n",
        "!./a.out"
      ],
      "execution_count": 4,
      "outputs": [
        {
          "output_type": "stream",
          "text": [
            "Reading package lists... Done\n",
            "Building dependency tree       \n",
            "Reading state information... Done\n",
            "g++ is already the newest version (4:7.3.0-3ubuntu2.1).\n",
            "0 upgraded, 0 newly installed, 0 to remove and 10 not upgraded.\n",
            "Hello, World!\n"
          ],
          "name": "stdout"
        }
      ]
    }
  ]
}
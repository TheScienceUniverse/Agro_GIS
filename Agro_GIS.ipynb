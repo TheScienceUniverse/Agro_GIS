{
  "nbformat": 4,
  "nbformat_minor": 0,
  "metadata": {
    "colab": {
      "name": "Agro_GIS.ipynb",
      "version": "0.3.2",
      "provenance": [],
      "collapsed_sections": [],
      "include_colab_link": true
    },
    "kernelspec": {
      "name": "python3",
      "display_name": "Python 3"
    },
    "accelerator": "GPU"
  },
  "cells": [
    {
      "cell_type": "markdown",
      "metadata": {
        "id": "view-in-github",
        "colab_type": "text"
      },
      "source": [
        "<a href=\"https://colab.research.google.com/github/TheScienceUniverse/Agro_GIS/blob/master/Agro_GIS.ipynb\" target=\"_parent\"><img src=\"https://colab.research.google.com/assets/colab-badge.svg\" alt=\"Open In Colab\"/></a>"
      ]
    },
    {
      "metadata": {
        "id": "2oEVWibeS4uw",
        "colab_type": "code",
        "outputId": "b5255c5a-6427-4b88-bf11-792c1e8f8a93",
        "colab": {
          "base_uri": "https://localhost:8080/",
          "height": 168
        }
      },
      "cell_type": "code",
      "source": [
        "# Importing Full GitHub Repository Here\n",
        "!pwd\n",
        "!ls\n",
        "!rm -rf Agro_GIS\n",
        "!git clone https://github.com/TheScienceUniverse/Agro_GIS.git"
      ],
      "execution_count": 1,
      "outputs": [
        {
          "output_type": "stream",
          "text": [
            "/content\n",
            "sample_data\n",
            "Cloning into 'Agro_GIS'...\n",
            "remote: Enumerating objects: 18, done.\u001b[K\n",
            "remote: Counting objects: 100% (18/18), done.\u001b[K\n",
            "remote: Compressing objects: 100% (15/15), done.\u001b[K\n",
            "remote: Total 118 (delta 7), reused 0 (delta 0), pack-reused 100\u001b[K\n",
            "Receiving objects: 100% (118/118), 2.42 MiB | 2.58 MiB/s, done.\n",
            "Resolving deltas: 100% (50/50), done.\n"
          ],
          "name": "stdout"
        }
      ]
    },
    {
      "metadata": {
        "id": "31faVyUYIg-I",
        "colab_type": "code",
        "colab": {}
      },
      "cell_type": "code",
      "source": [
        "# importing csv module\n",
        "import csv\n",
        "\n",
        "# csv File NAME\n",
        "f_name = \"Agro_GIS/data/agro.csv\"\n",
        "\n",
        "# initializing the titles and rows list\n",
        "fields = []\n",
        "rows = []\n",
        "\n",
        "# reading CSV File\n",
        "with open(f_name, 'r') as f_csv:\n",
        "\t# creating a CSV Reader object\n",
        "\tr_csv = csv.reader(f_csv)\n",
        "\t# Line COUNT\n",
        "\tl_count = 0\n",
        "\t# read row-by-row\n",
        "\tfor row in r_csv:\n",
        "\t\t# print(row)\n",
        "\t\tl_count += 1\n",
        "\tprint(\"Total Number of Rows: \", l_count)\n",
        "f_csv.close()"
      ],
      "execution_count": 0,
      "outputs": []
    },
    {
      "metadata": {
        "id": "yoPuItVE2Y4F",
        "colab_type": "code",
        "colab": {}
      },
      "cell_type": "code",
      "source": [
        "!sh Agro_GIS/setup.sh"
      ],
      "execution_count": 0,
      "outputs": []
    },
    {
      "metadata": {
        "id": "HLkQFrFWr1JH",
        "colab_type": "code",
        "outputId": "223d5d54-c051-40e0-e456-7aa65b8b5788",
        "colab": {
          "base_uri": "https://localhost:8080/",
          "height": 34
        }
      },
      "cell_type": "code",
      "source": [
        "import numpy as p_nm\n",
        "import scipy as p_sc\n",
        "import matplotlib as p_mp\n",
        "\n",
        "import cv2 as p_cv\n",
        "\n",
        "print(\"Done\")"
      ],
      "execution_count": 0,
      "outputs": [
        {
          "output_type": "stream",
          "text": [
            "Done\n"
          ],
          "name": "stdout"
        }
      ]
    },
    {
      "metadata": {
        "id": "ewv71_t6_l_8",
        "colab_type": "code",
        "colab": {}
      },
      "cell_type": "code",
      "source": [
        "from mpl_toolkits.basemap import Basemap\n",
        "import matplotlib.pyplot as plt\n",
        "\n",
        "\"\"\"\n",
        "m = Basemap(projection=\"mill\", \\\n",
        "           llcrnrlat=-90, urcrnrlat=90, \\\n",
        "           llcrnrlon=-180, urcrnrlon=180,\\\n",
        "           resolution='c')\n",
        "\n",
        "m.drawcoastlines()\n",
        "m.fillcontinents()\n",
        "\n",
        "m.drawmapboundary()\n",
        "plt.title('Quick basemap example!')\n",
        "plt.show()\n",
        "\"\"\""
      ],
      "execution_count": 0,
      "outputs": []
    },
    {
      "metadata": {
        "id": "XibXgMnXl9MK",
        "colab_type": "code",
        "outputId": "94b95b95-bbd9-4abc-ab54-bd347eacf3a9",
        "colab": {
          "base_uri": "https://localhost:8080/",
          "height": 562
        }
      },
      "cell_type": "code",
      "source": [
        "import sys as p_ss\n",
        "import numpy as p_np\n",
        "import cv2 as p_cv\n",
        "from matplotlib import pyplot as p_pt\n",
        "# from Agro_GIS.mylib import mylib as p_ml\n",
        "\n",
        "img = p_cv.imread('Agro_GIS/img/india.png', -1)\n",
        "ih, iw, ic = img.shape\n",
        "print(ih, iw, ic)\n",
        "\n",
        "C = [\n",
        "[708, 440], [352, 832], [384, 786], [408, 592], [552, 480],\n",
        "[736, 242], [480, 200], [234, 334], [228, 348], [110, 272],\n",
        "[484, 592], [818, 274], [948, 334], [484, 352], [622, 214],\n",
        "[440, 846], [414, 778], [472, 815], [408, 854], [576, 608],\n",
        "[234, 332], [360, 296], [350, 686], [810, 434], [640, 384],\n",
        "[466, 774], [384, 432], [248, 368], [516, 682], [854, 812],\n",
        "[234, 326], [584, 216], [582, 212], [308, 342], [906, 194],\n",
        "[848, 420]]\n",
        "\n",
        "def comp_col(c0, c1):\n",
        "\treturn c0[0] == c1[0] and c0[1] == c1[1] and c0[2] == c1[2]\n",
        "\n",
        "print(comp_col([0, 0, 0], [0, 0, 1]))\n",
        "    \n",
        "class Queue:\n",
        "\tdef __init__(self):\n",
        "\t\tself.items = []\n",
        "\tdef is_empty(self):\n",
        "\t\treturn self.items == []\n",
        "\tdef enQueue(self, data):\n",
        "\t\tself.items.append(data)\n",
        "\tdef deQueue(self):\n",
        "\t\treturn self.items.pop(0)\n",
        "\n",
        "def flood_fill (p, c):\n",
        "\tc.append(255)\n",
        "\tQ = Queue()\n",
        "\tQ.enQueue(p)\n",
        "\twhile (not Q.is_empty()):\n",
        "\t\tp = Q.deQueue()\n",
        "\t\tif img[p[0]][p[1]][3] == 0:\n",
        "\t\t\timg[p[0]][p[1]] = c\n",
        "\t\t\tQ.enQueue([p[0] - 1, p[1] - 1])\n",
        "\t\t\tQ.enQueue([p[0] - 1, p[1]])\n",
        "\t\t\tQ.enQueue([p[0] - 1, p[1] + 1])\n",
        "\t\t\tQ.enQueue([p[0], p[1] - 1])\n",
        "\t\t\tQ.enQueue([p[0], p[1] + 1])\n",
        "\t\t\tQ.enQueue([p[0] + 1, p[1] - 1])\n",
        "\t\t\tQ.enQueue([p[0] + 1, p[1]])\n",
        "\t\t\tQ.enQueue([p[0] + 1, p[1] + 1])\n",
        "\n",
        "# flood_fill([707, 439], [0, 0, 255])\n",
        "\n",
        "for i in range(len(C)):\n",
        "\tflood_fill([C[i][0] - 1, C[i][1] - 1], [0, 255, 0])\n",
        "\n",
        "\n",
        "            \n",
        "ret = p_cv.imwrite('./Agro_GIS/img/output.png', img)\n",
        "\n",
        "from IPython.display import Image\n",
        "Image('./Agro_GIS/img/output.png', width=512, height=512)"
      ],
      "execution_count": 31,
      "outputs": [
        {
          "output_type": "stream",
          "text": [
            "1024 1024 4\n",
            "False\n"
          ],
          "name": "stdout"
        },
        {
          "output_type": "execute_result",
          "data": {
            "image/png": "[encoded data removed]",
            "text/plain": [
              "<IPython.core.display.Image object>"
            ]
          },
          "metadata": {
            "tags": [],
            "image/png": {
              "width": 512,
              "height": 512
            }
          },
          "execution_count": 31
        }
      ]
    }
  ]
}